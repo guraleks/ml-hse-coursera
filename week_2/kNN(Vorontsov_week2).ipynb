{
 "cells": [
  {
   "cell_type": "markdown",
   "metadata": {},
   "source": [
    "# Инструкция по выполнению"
   ]
  },
  {
   "cell_type": "markdown",
   "metadata": {},
   "source": [
    "В этом задании вам нужно подобрать оптимальное значение k для алгоритма\n",
    "kNN. Будем использовать набор данных Wine, где требуется\n",
    "предсказать сорт винограда, из которого изготовлено вино, используя\n",
    "результаты химических анализов.\n",
    "Выполните следующие шаги:\n",
    "1. Загрузите выборку Wine по адресу https://archive.ics.uci.edu/ml/machinelearning-databases/wine/wine.data\n",
    "2. Извлеките из данных признаки и классы. Класс записан в первом\n",
    "столбце (три варианта), признаки — в столбцах со второго по последний.\n",
    "Более подробно о сути признаков можно прочитать по адресу\n",
    "https://archive.ics.uci.edu/ml/datasets/Wine (см. также файл\n",
    "wine.names, приложенный к заданию)\n",
    "3. Оценку качества необходимо провести методом кросс-валидации по\n",
    "5 блокам (5-fold). Создайте генератор разбиений, который перемешивает\n",
    "выборку перед формированием блоков (shuffle=True). Для\n",
    "3\n",
    "воспроизводимости результата, создавайте генератор KFold с фиксированным\n",
    "параметром random_state=42. В качестве меры качества\n",
    "используйте долю верных ответов (accuracy).\n",
    "4. Найдите точность классификации на кросс-валидации для метода\n",
    "k ближайших соседей (sklearn.neighbors.KNeighborsClassifier), при\n",
    "k от 1 до 50. При каком k получилось оптимальное качество? Чему\n",
    "оно равно (число в интервале от 0 до 1)? Данные результаты и\n",
    "будут ответами на вопросы 1 и 2.\n",
    "5. Произведите масштабирование признаков с помощью функции\n",
    "sklearn.preprocessing.scale. Снова найдите оптимальное k на кроссвалидации.\n",
    "6. Какое значение k получилось оптимальным после приведения признаков\n",
    "к одному масштабу? Как изменилось значение качества?\n",
    "Приведите ответы на вопросы 3 и 4.\n",
    "Если ответом является нецелое число, то целую и дробную часть необходимо\n",
    "разграничивать точкой, например, 0.5. При необходимости округляйте\n",
    "дробную часть до двух знаков.\n",
    "Ответ на каждое задание — текстовый файл, содержащий ответ в\n",
    "первой строчке. Обратите внимание, что отправляемые файлы не должны\n",
    "содержать пустую строку в конце. Данный нюанс является ограничением\n",
    "платформы Coursera. Мы работаем над тем, чтобы убрать это\n",
    "ограничение."
   ]
  },
  {
   "cell_type": "code",
   "execution_count": 63,
   "metadata": {},
   "outputs": [],
   "source": [
    "import pandas as pd\n",
    "import numpy as np\n",
    "from sklearn import cross_validation, model_selection, preprocessing\n",
    "from sklearn.neighbors import KNeighborsClassifier, KNeighborsRegressor\n",
    "import matplotlib.pyplot as plt\n",
    "%matplotlib inline"
   ]
  },
  {
   "cell_type": "code",
   "execution_count": 52,
   "metadata": {},
   "outputs": [],
   "source": [
    "data = pd.read_csv('wine.data', header=-1, )"
   ]
  },
  {
   "cell_type": "code",
   "execution_count": 53,
   "metadata": {},
   "outputs": [
    {
     "data": {
      "text/html": [
       "<div>\n",
       "<style scoped>\n",
       "    .dataframe tbody tr th:only-of-type {\n",
       "        vertical-align: middle;\n",
       "    }\n",
       "\n",
       "    .dataframe tbody tr th {\n",
       "        vertical-align: top;\n",
       "    }\n",
       "\n",
       "    .dataframe thead th {\n",
       "        text-align: right;\n",
       "    }\n",
       "</style>\n",
       "<table border=\"1\" class=\"dataframe\">\n",
       "  <thead>\n",
       "    <tr style=\"text-align: right;\">\n",
       "      <th></th>\n",
       "      <th>0</th>\n",
       "      <th>1</th>\n",
       "      <th>2</th>\n",
       "      <th>3</th>\n",
       "      <th>4</th>\n",
       "      <th>5</th>\n",
       "      <th>6</th>\n",
       "      <th>7</th>\n",
       "      <th>8</th>\n",
       "      <th>9</th>\n",
       "      <th>10</th>\n",
       "      <th>11</th>\n",
       "      <th>12</th>\n",
       "      <th>13</th>\n",
       "    </tr>\n",
       "  </thead>\n",
       "  <tbody>\n",
       "    <tr>\n",
       "      <th>0</th>\n",
       "      <td>1</td>\n",
       "      <td>14.23</td>\n",
       "      <td>1.71</td>\n",
       "      <td>2.43</td>\n",
       "      <td>15.6</td>\n",
       "      <td>127</td>\n",
       "      <td>2.80</td>\n",
       "      <td>3.06</td>\n",
       "      <td>0.28</td>\n",
       "      <td>2.29</td>\n",
       "      <td>5.64</td>\n",
       "      <td>1.04</td>\n",
       "      <td>3.92</td>\n",
       "      <td>1065</td>\n",
       "    </tr>\n",
       "    <tr>\n",
       "      <th>1</th>\n",
       "      <td>1</td>\n",
       "      <td>13.20</td>\n",
       "      <td>1.78</td>\n",
       "      <td>2.14</td>\n",
       "      <td>11.2</td>\n",
       "      <td>100</td>\n",
       "      <td>2.65</td>\n",
       "      <td>2.76</td>\n",
       "      <td>0.26</td>\n",
       "      <td>1.28</td>\n",
       "      <td>4.38</td>\n",
       "      <td>1.05</td>\n",
       "      <td>3.40</td>\n",
       "      <td>1050</td>\n",
       "    </tr>\n",
       "    <tr>\n",
       "      <th>2</th>\n",
       "      <td>1</td>\n",
       "      <td>13.16</td>\n",
       "      <td>2.36</td>\n",
       "      <td>2.67</td>\n",
       "      <td>18.6</td>\n",
       "      <td>101</td>\n",
       "      <td>2.80</td>\n",
       "      <td>3.24</td>\n",
       "      <td>0.30</td>\n",
       "      <td>2.81</td>\n",
       "      <td>5.68</td>\n",
       "      <td>1.03</td>\n",
       "      <td>3.17</td>\n",
       "      <td>1185</td>\n",
       "    </tr>\n",
       "    <tr>\n",
       "      <th>3</th>\n",
       "      <td>1</td>\n",
       "      <td>14.37</td>\n",
       "      <td>1.95</td>\n",
       "      <td>2.50</td>\n",
       "      <td>16.8</td>\n",
       "      <td>113</td>\n",
       "      <td>3.85</td>\n",
       "      <td>3.49</td>\n",
       "      <td>0.24</td>\n",
       "      <td>2.18</td>\n",
       "      <td>7.80</td>\n",
       "      <td>0.86</td>\n",
       "      <td>3.45</td>\n",
       "      <td>1480</td>\n",
       "    </tr>\n",
       "    <tr>\n",
       "      <th>4</th>\n",
       "      <td>1</td>\n",
       "      <td>13.24</td>\n",
       "      <td>2.59</td>\n",
       "      <td>2.87</td>\n",
       "      <td>21.0</td>\n",
       "      <td>118</td>\n",
       "      <td>2.80</td>\n",
       "      <td>2.69</td>\n",
       "      <td>0.39</td>\n",
       "      <td>1.82</td>\n",
       "      <td>4.32</td>\n",
       "      <td>1.04</td>\n",
       "      <td>2.93</td>\n",
       "      <td>735</td>\n",
       "    </tr>\n",
       "  </tbody>\n",
       "</table>\n",
       "</div>"
      ],
      "text/plain": [
       "   0      1     2     3     4    5     6     7     8     9     10    11    12  \\\n",
       "0   1  14.23  1.71  2.43  15.6  127  2.80  3.06  0.28  2.29  5.64  1.04  3.92   \n",
       "1   1  13.20  1.78  2.14  11.2  100  2.65  2.76  0.26  1.28  4.38  1.05  3.40   \n",
       "2   1  13.16  2.36  2.67  18.6  101  2.80  3.24  0.30  2.81  5.68  1.03  3.17   \n",
       "3   1  14.37  1.95  2.50  16.8  113  3.85  3.49  0.24  2.18  7.80  0.86  3.45   \n",
       "4   1  13.24  2.59  2.87  21.0  118  2.80  2.69  0.39  1.82  4.32  1.04  2.93   \n",
       "\n",
       "     13  \n",
       "0  1065  \n",
       "1  1050  \n",
       "2  1185  \n",
       "3  1480  \n",
       "4   735  "
      ]
     },
     "execution_count": 53,
     "metadata": {},
     "output_type": "execute_result"
    }
   ],
   "source": [
    "data.head()"
   ]
  },
  {
   "cell_type": "code",
   "execution_count": 56,
   "metadata": {},
   "outputs": [],
   "source": [
    "X = data.iloc[:, 1:]\n",
    "y = data.iloc[:, :1]"
   ]
  },
  {
   "cell_type": "code",
   "execution_count": 60,
   "metadata": {},
   "outputs": [],
   "source": [
    "cv = model_selection.KFold(n_splits=5, random_state=42, shuffle=True)"
   ]
  },
  {
   "cell_type": "markdown",
   "metadata": {},
   "source": [
    "Ищем оптимальное k в промежутке от 1 до 50"
   ]
  },
  {
   "cell_type": "code",
   "execution_count": 64,
   "metadata": {},
   "outputs": [
    {
     "data": {
      "text/plain": [
       "<function matplotlib.pyplot.show>"
      ]
     },
     "execution_count": 64,
     "metadata": {},
     "output_type": "execute_result"
    },
    {
     "data": {
      "image/png": "[encoded data removed]",
      "text/plain": [
       "<matplotlib.figure.Figure at 0xb3b0e48>"
      ]
     },
     "metadata": {},
     "output_type": "display_data"
    }
   ],
   "source": [
    "accuracies = []\n",
    "for i in range(1, 51):\n",
    "    model = KNeighborsClassifier(n_neighbors=i)\n",
    "    accuracy = np.mean(model_selection.cross_val_score(model, X, y, cv=cv))\n",
    "    accuracies.append(accuracy)\n",
    "xx = [i for i in range(1, 51)]\n",
    "plt.plot(xx, accuracies)\n",
    "plt.show"
   ]
  },
  {
   "cell_type": "code",
   "execution_count": 65,
   "metadata": {},
   "outputs": [
    {
     "data": {
      "text/plain": [
       "0.7304761904761905"
      ]
     },
     "execution_count": 65,
     "metadata": {},
     "output_type": "execute_result"
    }
   ],
   "source": [
    "accuracies[0]"
   ]
  },
  {
   "cell_type": "markdown",
   "metadata": {},
   "source": [
    "Производим масштабирование признаков"
   ]
  },
  {
   "cell_type": "code",
   "execution_count": 66,
   "metadata": {},
   "outputs": [],
   "source": [
    "X_scale = preprocessing.scale(X, axis=0)"
   ]
  },
  {
   "cell_type": "code",
   "execution_count": 69,
   "metadata": {},
   "outputs": [
    {
     "data": {
      "text/plain": [
       "<function matplotlib.pyplot.show>"
      ]
     },
     "execution_count": 69,
     "metadata": {},
     "output_type": "execute_result"
    },
    {
     "data": {
      "image/png": "[encoded data removed]",
      "text/plain": [
       "<matplotlib.figure.Figure at 0xc1ad7b8>"
      ]
     },
     "metadata": {},
     "output_type": "display_data"
    }
   ],
   "source": [
    "accuracies = []\n",
    "for i in range(1, 51):\n",
    "    model = KNeighborsClassifier(n_neighbors=i)\n",
    "    accuracy = np.mean(model_selection.cross_val_score(model, X_scale, y, cv=cv))\n",
    "    accuracies.append(accuracy)\n",
    "xx = [i for i in range(1, 51)]\n",
    "plt.plot(xx, accuracies)\n",
    "plt.show"
   ]
  },
  {
   "cell_type": "code",
   "execution_count": 71,
   "metadata": {},
   "outputs": [
    {
     "name": "stdout",
     "output_type": "stream",
     "text": [
      "K=1 \n",
      "Accuracy=0.943968253968\n",
      "K=2 \n",
      "Accuracy=0.932857142857\n",
      "K=3 \n",
      "Accuracy=0.955079365079\n",
      "K=4 \n",
      "Accuracy=0.938253968254\n",
      "K=5 \n",
      "Accuracy=0.949365079365\n",
      "K=6 \n",
      "Accuracy=0.949523809524\n",
      "K=7 \n",
      "Accuracy=0.949523809524\n",
      "K=8 \n",
      "Accuracy=0.955238095238\n",
      "K=9 \n",
      "Accuracy=0.960793650794\n",
      "K=10 \n",
      "Accuracy=0.960793650794\n",
      "K=11 \n",
      "Accuracy=0.960952380952\n",
      "K=12 \n",
      "Accuracy=0.955238095238\n",
      "K=13 \n",
      "Accuracy=0.949523809524\n",
      "K=14 \n",
      "Accuracy=0.966349206349\n",
      "K=15 \n",
      "Accuracy=0.972063492063\n",
      "K=16 \n",
      "Accuracy=0.972063492063\n",
      "K=17 \n",
      "Accuracy=0.966507936508\n",
      "K=18 \n",
      "Accuracy=0.966507936508\n",
      "K=19 \n",
      "Accuracy=0.955396825397\n",
      "K=20 \n",
      "Accuracy=0.966507936508\n",
      "K=21 \n",
      "Accuracy=0.960952380952\n",
      "K=22 \n",
      "Accuracy=0.966507936508\n",
      "K=23 \n",
      "Accuracy=0.960952380952\n",
      "K=24 \n",
      "Accuracy=0.955238095238\n",
      "K=25 \n",
      "Accuracy=0.955238095238\n",
      "K=26 \n",
      "Accuracy=0.960793650794\n",
      "K=27 \n",
      "Accuracy=0.955238095238\n",
      "K=28 \n",
      "Accuracy=0.966349206349\n",
      "K=29 \n",
      "Accuracy=0.977619047619\n",
      "K=30 \n",
      "Accuracy=0.960793650794\n",
      "K=31 \n",
      "Accuracy=0.955238095238\n",
      "K=32 \n",
      "Accuracy=0.960793650794\n",
      "K=33 \n",
      "Accuracy=0.966349206349\n",
      "K=34 \n",
      "Accuracy=0.966349206349\n",
      "K=35 \n",
      "Accuracy=0.960793650794\n",
      "K=36 \n",
      "Accuracy=0.960793650794\n",
      "K=37 \n",
      "Accuracy=0.955238095238\n",
      "K=38 \n",
      "Accuracy=0.960793650794\n",
      "K=39 \n",
      "Accuracy=0.960793650794\n",
      "K=40 \n",
      "Accuracy=0.960793650794\n",
      "K=41 \n",
      "Accuracy=0.966349206349\n",
      "K=42 \n",
      "Accuracy=0.960793650794\n",
      "K=43 \n",
      "Accuracy=0.966349206349\n",
      "K=44 \n",
      "Accuracy=0.960634920635\n",
      "K=45 \n",
      "Accuracy=0.966349206349\n",
      "K=46 \n",
      "Accuracy=0.949523809524\n",
      "K=47 \n",
      "Accuracy=0.955079365079\n",
      "K=48 \n",
      "Accuracy=0.949523809524\n",
      "K=49 \n",
      "Accuracy=0.955079365079\n",
      "K=50 \n",
      "Accuracy=0.960634920635\n"
     ]
    }
   ],
   "source": [
    "for i in range(1, len(accuracies) + 1):\n",
    "    print('K={} '.format(i))\n",
    "    print('Accuracy={}'.format(accuracies[i - 1]))"
   ]
  },
  {
   "cell_type": "code",
   "execution_count": null,
   "metadata": {},
   "outputs": [],
   "source": []
  }
 ],
 "metadata": {
  "kernelspec": {
   "display_name": "Python 2",
   "language": "python",
   "name": "python2"
  },
  "language_info": {
   "codemirror_mode": {
    "name": "ipython",
    "version": 2
   },
   "file_extension": ".py",
   "mimetype": "text/x-python",
   "name": "python",
   "nbconvert_exporter": "python",
   "pygments_lexer": "ipython2",
   "version": "2.7.14"
  }
 },
 "nbformat": 4,
 "nbformat_minor": 2
}
