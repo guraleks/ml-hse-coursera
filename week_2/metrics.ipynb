{
 "cells": [
  {
   "cell_type": "markdown",
   "metadata": {},
   "source": [
    "# Инструкция по выполнению"
   ]
  },
  {
   "cell_type": "markdown",
   "metadata": {},
   "source": [
    "Мы будем использовать в данном задании набор данных Boston, где нужно\n",
    "предсказать стоимость жилья на основе различных характеристик\n",
    "расположения (загрязненность воздуха, близость к дорогам и т.д.). Подробнее\n",
    "о признаках можно почитать по адресу\n",
    "https://archive.ics.uci.edu/ml/datasets/Housing\n",
    "\n",
    "1. Загрузите выборку Boston с помощью функции sklearn.datasets.load_boston().\n",
    "Результатом вызова данной функции является объект, у которого\n",
    "признаки записаны в поле data, а целевой вектор — в поле target.\n",
    "\n",
    "2. Приведите признаки в выборке к одному масштабу при помощи\n",
    "функции sklearn.preprocessing.scale.\n",
    "\n",
    "3. Переберите разные варианты параметра метрики p по сетке от 1 до\n",
    "10 с таким шагом, чтобы всего было протестировано 200 вариантов\n",
    "(используйте функцию numpy.linspace). Используйте KNeighborsRegressor\n",
    "с n_neighbors=5 и weights=’distance’ — данный параметр добавляет\n",
    "в алгоритм веса, зависящие от расстояния до ближайших соседей. В\n",
    "качестве метрики качества используйте среднеквадратичную ошибку\n",
    "(параметр scoring=’mean_squared_error’ у cross_val_score; при\n",
    "использовании библиотеки scikit-learn версии 18.0.1 и выше необходимо\n",
    "указывать scoring=’neg_mean_squared_error’). Качество оценивайте,\n",
    "как и в предыдущем задании, с помощью кросс-валидации\n",
    "по 5 блокам с random_state = 42, не забудьте включить перемешивание\n",
    "выборки (shuffle=True).\n",
    "\n",
    "4. Определите, при каком p качество на кросс-валидации оказалось\n",
    "оптимальным. Обратите внимание, что cross_val_score возвращает \n",
    "массив показателей качества по блокам; необходимо максимизировать\n",
    "среднее этих показателей. Это значение параметра и будет\n",
    "ответом на задачу.\n",
    "\n",
    "Если ответом является нецелое число, то целую и дробную часть\n",
    "необходимо разграничивать точкой, например, 0.4. При необходимости\n",
    "округляйте дробную часть до одного знака.\n",
    "Ответ на каждое задание — текстовый файл, содержащий ответ в\n",
    "первой строчке. Обратите внимание, что отправляемые файлы не должны\n",
    "содержать перевод строки в конце. Данный нюанс является ограничением\n",
    "платформы Coursera. Мы работаем над тем, чтобы убрать это\n",
    "ограничение."
   ]
  },
  {
   "cell_type": "code",
   "execution_count": 20,
   "metadata": {},
   "outputs": [],
   "source": [
    "import numpy as np\n",
    "import pandas as pd\n",
    "from sklearn import datasets\n",
    "from sklearn.preprocessing import scale\n",
    "from sklearn.neighbors import KNeighborsRegressor\n",
    "from sklearn.model_selection import cross_val_score, KFold\n",
    "import matplotlib.pyplot as plt\n",
    "%matplotlib inline"
   ]
  },
  {
   "cell_type": "code",
   "execution_count": 21,
   "metadata": {},
   "outputs": [],
   "source": [
    "X, y = datasets.load_boston().data, datasets.load_boston().target"
   ]
  },
  {
   "cell_type": "code",
   "execution_count": 22,
   "metadata": {},
   "outputs": [],
   "source": [
    "X_scaled = scale(X)"
   ]
  },
  {
   "cell_type": "code",
   "execution_count": 28,
   "metadata": {},
   "outputs": [],
   "source": [
    "p = np.linspace(1, 10, 200)\n",
    "cv = KFold(n_splits=5, shuffle=True, random_state=42)\n",
    "scores = []\n",
    "for i in p:\n",
    "    model = KNeighborsRegressor(n_neighbors=5, weights='distance', metric='minkowski', p=i)\n",
    "    score = np.mean(cross_val_score(model, X_scaled, y, cv=cv, scoring='neg_mean_squared_error'))\n",
    "    scores.append(score)"
   ]
  },
  {
   "cell_type": "code",
   "execution_count": 29,
   "metadata": {},
   "outputs": [
    {
     "data": {
      "image/png": "[encoded data removed]",
      "text/plain": [
       "<matplotlib.figure.Figure at 0xc182860>"
      ]
     },
     "metadata": {},
     "output_type": "display_data"
    }
   ],
   "source": [
    "plt.plot(p, scores)\n",
    "plt.show()"
   ]
  },
  {
   "cell_type": "code",
   "execution_count": 30,
   "metadata": {},
   "outputs": [
    {
     "name": "stdout",
     "output_type": "stream",
     "text": [
      "-16.050208508436157\n"
     ]
    }
   ],
   "source": [
    "print(max(scores))"
   ]
  },
  {
   "cell_type": "code",
   "execution_count": null,
   "metadata": {},
   "outputs": [],
   "source": []
  }
 ],
 "metadata": {
  "kernelspec": {
   "display_name": "Python 2",
   "language": "python",
   "name": "python2"
  },
  "language_info": {
   "codemirror_mode": {
    "name": "ipython",
    "version": 2
   },
   "file_extension": ".py",
   "mimetype": "text/x-python",
   "name": "python",
   "nbconvert_exporter": "python",
   "pygments_lexer": "ipython2",
   "version": "2.7.14"
  }
 },
 "nbformat": 4,
 "nbformat_minor": 2
}
